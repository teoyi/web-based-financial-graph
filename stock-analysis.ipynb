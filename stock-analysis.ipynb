{
 "metadata": {
  "language_info": {
   "codemirror_mode": {
    "name": "ipython",
    "version": 3
   },
   "file_extension": ".py",
   "mimetype": "text/x-python",
   "name": "python",
   "nbconvert_exporter": "python",
   "pygments_lexer": "ipython3",
   "version": "3.8.3-final"
  },
  "orig_nbformat": 2,
  "kernelspec": {
   "name": "python3",
   "display_name": "Python 3",
   "language": "python"
  }
 },
 "nbformat": 4,
 "nbformat_minor": 2,
 "cells": [
  {
   "cell_type": "code",
   "execution_count": 1,
   "metadata": {},
   "outputs": [],
   "source": [
    "from pandas_datareader import data\n",
    "import datetime\n",
    "from bokeh.plotting import figure, show, output_file\n",
    "from bokeh.models.annotations import Title"
   ]
  },
  {
   "cell_type": "code",
   "execution_count": 2,
   "metadata": {},
   "outputs": [],
   "source": [
    "start = datetime.datetime(2015,11,1)\n",
    "end = datetime.datetime(2016,3,10)\n",
    "\n",
    "df = data.DataReader(name = 'GOOG', data_source = 'yahoo', start = start, end = end)\n",
    "\n",
    "#df.index[df.Close > df.Open]\n",
    "\n",
    "# ways of filtering \n",
    "# date_increase = df.index[df.Close > df.Open]\n",
    "# date_decrease = df.index[df.Close < df.Open]\n",
    "# Creating status\n",
    "def inc_dec(c,o):\n",
    "    if c > o: \n",
    "        value = 'Increase'\n",
    "    elif c < o: \n",
    "        value ='Decrease'\n",
    "    else: \n",
    "        value = 'Equal'\n",
    "    return value \n",
    "\n",
    "df['Status'] = [inc_dec(c,o) for c,o in zip(df.Close,df.Open)]\n",
    "df['Middle'] = (df.Open + df.Close)/2\n",
    "df['Height'] = abs(df.Close-df.Open)\n",
    "\n",
    "p = figure(x_axis_type = 'datetime', width= 1000, height = 300, sizing_mode = 'scale_width')\n",
    "t = Title()\n",
    "t.text = 'Candlestick Chart'\n",
    "p.title = t\n",
    "p.grid.grid_line_alpha = 1\n",
    "\n",
    "hours_12 = 12*60*60*1000 # changing it to milisecond \n",
    "\n",
    "p.segment(df.index, df.High, df.index, df.Low, color = 'black') \n",
    "\n",
    "p.rect(df.index[df.Status == 'Increase'], df.Middle[df.Status=='Increase'], hours_12, df.Height[df.Status=='Increase'], fill_color = 'green', line_color = 'black') # x, y, width, height, color for bar, color of outline  \n",
    "\n",
    "p.rect(df.index[df.Status == 'Decrease'], df.Middle[df.Status=='Decrease'], hours_12, df.Height[df.Status=='Decrease'], fill_color = 'red', line_color = 'black') \n",
    "\n",
    "\n",
    "output_file(\"CS.html\")\n",
    "show(p)\n"
   ]
  }
 ]
}